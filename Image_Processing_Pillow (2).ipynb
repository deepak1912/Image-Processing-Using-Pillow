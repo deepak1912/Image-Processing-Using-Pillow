{
 "cells": [
  {
   "cell_type": "markdown",
   "metadata": {},
   "source": [
    "# Image Processing Pillow\n",
    "\n",
    "\n",
    "## Author : M. Nagendra deepak\n",
    "\n"
   ]
  },
  {
   "cell_type": "code",
   "execution_count": 1,
   "metadata": {
    "colab": {
     "base_uri": "https://localhost:8080/"
    },
    "id": "hzmT9jInXVQn",
    "outputId": "5e02f1df-0fe1-4a03-f62d-8acc7663384a"
   },
   "outputs": [
    {
     "ename": "ModuleNotFoundError",
     "evalue": "No module named 'google'",
     "output_type": "error",
     "traceback": [
      "\u001b[1;31m---------------------------------------------------------------------------\u001b[0m",
      "\u001b[1;31mModuleNotFoundError\u001b[0m                       Traceback (most recent call last)",
      "\u001b[1;32m<ipython-input-1-3853e492f9f4>\u001b[0m in \u001b[0;36m<module>\u001b[1;34m\u001b[0m\n\u001b[0;32m      1\u001b[0m \u001b[1;31m#mount drive\u001b[0m\u001b[1;33m\u001b[0m\u001b[1;33m\u001b[0m\u001b[1;33m\u001b[0m\u001b[0m\n\u001b[1;32m----> 2\u001b[1;33m \u001b[1;32mfrom\u001b[0m \u001b[0mgoogle\u001b[0m\u001b[1;33m.\u001b[0m\u001b[0mcolab\u001b[0m \u001b[1;32mimport\u001b[0m  \u001b[0mdrive\u001b[0m\u001b[1;33m\u001b[0m\u001b[1;33m\u001b[0m\u001b[0m\n\u001b[0m\u001b[0;32m      3\u001b[0m \u001b[0mdrive\u001b[0m\u001b[1;33m.\u001b[0m\u001b[0mmount\u001b[0m\u001b[1;33m(\u001b[0m\u001b[1;34m'/content/drive'\u001b[0m\u001b[1;33m)\u001b[0m\u001b[1;33m\u001b[0m\u001b[1;33m\u001b[0m\u001b[0m\n",
      "\u001b[1;31mModuleNotFoundError\u001b[0m: No module named 'google'"
     ]
    }
   ],
   "source": [
    "#mount drive\n",
    "from google.colab import  drive\n",
    "drive.mount('/content/drive')"
   ]
  },
  {
   "cell_type": "code",
   "execution_count": null,
   "metadata": {
    "id": "gsdFK-7fYhxE"
   },
   "outputs": [],
   "source": [
    "image_x=\"/content/drive/My Drive/Image Processing/x.png\"\n",
    "image_o=\"/content/drive/My Drive/Image Processing/o.png\"\n",
    "image_car=\"/content/drive/My Drive/Image Processing/car.jpeg\"\n",
    "image_birds=\"/content/drive/My Drive/Image Processing/birds.jpeg\"\n",
    "image_boy=\"/content/drive/My Drive/Image Processing/boy.jpg\"\n",
    "image_spiderman=\"/content/drive/My Drive/Image Processing/spiderman.jpeg\"\n",
    "image_penguins=\"/content/drive/My Drive/Image Processing/penguins.jpeg\"\n",
    "image_panda=\"/content/drive/My Drive/Image Processing/panda.jpeg\"\n",
    "image_plane=\"/content/drive/My Drive/Image Processing/plane.jpeg\"\n",
    "image_flowers=\"/content/drive/My Drive/Image Processing/flowers.jpeg\"\n"
   ]
  },
  {
   "cell_type": "markdown",
   "metadata": {
    "id": "LJ5Tpq3tua95"
   },
   "source": [
    "#Opening And Displaying An Image"
   ]
  },
  {
   "cell_type": "code",
   "execution_count": null,
   "metadata": {
    "colab": {
     "base_uri": "https://localhost:8080/",
     "height": 360
    },
    "id": "dZL-OlyQvUjm",
    "outputId": "e3fd7d9c-9ac5-49cc-b326-5e562df08094"
   },
   "outputs": [],
   "source": [
    "from PIL import Image\n",
    "#Open image using Image module\n",
    "im = Image.open(image_car)\n",
    "#Show actual Image\n",
    "im\n"
   ]
  },
  {
   "cell_type": "markdown",
   "metadata": {
    "id": "Igcnf5dMxYZh"
   },
   "source": [
    "#Rotating And Displaying An Image"
   ]
  },
  {
   "cell_type": "code",
   "execution_count": null,
   "metadata": {
    "colab": {
     "base_uri": "https://localhost:8080/",
     "height": 360
    },
    "id": "WZFWlWrau6cd",
    "outputId": "f6ce32db-aa53-40d6-cee1-d90cab868b90"
   },
   "outputs": [],
   "source": [
    "#Show rotated Image\n",
    "im = im.rotate(45)\n",
    "im\n"
   ]
  },
  {
   "cell_type": "markdown",
   "metadata": {
    "id": "OQIsEyZ4yAQ7"
   },
   "source": [
    "# Attributes Of Image(filename,format,size,color mode,info)"
   ]
  },
  {
   "cell_type": "code",
   "execution_count": null,
   "metadata": {
    "colab": {
     "base_uri": "https://localhost:8080/",
     "height": 434
    },
    "id": "eYX1d9FSy2Gd",
    "outputId": "7541d86c-b18a-4b61-c7a2-7beb6cd14c9f"
   },
   "outputs": [],
   "source": [
    "image = Image.open(image_birds)\n",
    "print(image.filename)\n",
    "print(image.format)\n",
    "print(image.size)\n",
    "print(image.mode)\n",
    "print(image.info)\n",
    "image"
   ]
  },
  {
   "cell_type": "markdown",
   "metadata": {
    "id": "6pZGi81Mz8go"
   },
   "source": [
    "# Merging Images(RGB bands)"
   ]
  },
  {
   "cell_type": "code",
   "execution_count": null,
   "metadata": {
    "colab": {
     "background_save": true
    },
    "id": "0sRGfPe41e7I",
    "outputId": "a33c815f-827f-458a-8665-d9598fe47209"
   },
   "outputs": [],
   "source": [
    "from PIL import Image\n",
    "image = Image.open(image_birds)\n",
    "r, g, b = image.split()\n",
    "image\n",
    "#image1= Image.merge(\"RGB\", (b, g, r))\n",
    "#image1"
   ]
  },
  {
   "cell_type": "markdown",
   "metadata": {
    "id": "5mJneifYbfXp"
   },
   "source": [
    "# Merging Two Images"
   ]
  },
  {
   "cell_type": "markdown",
   "metadata": {
    "id": "zfMD2nEFZbMP"
   },
   "source": []
  },
  {
   "cell_type": "code",
   "execution_count": null,
   "metadata": {
    "colab": {
     "base_uri": "https://localhost:8080/",
     "height": 307
    },
    "id": "GgYzs_7GDjpp",
    "outputId": "4164ce96-39fd-4055-965f-9ec731247596"
   },
   "outputs": [],
   "source": [
    "from PIL import Image,ImageChops,ImageFilter\n",
    "#loading image into python\n",
    "x=Image.open(image_x)\n",
    "o=Image.open(image_o)\n",
    "print('size of image:',x.size ,'color mode:',x.mode )\n",
    "print('size of image:',o.size ,'color mode:',o.mode )\n",
    "#multiply images(merges two images)\n",
    "merge=ImageChops.multiply(x,o)\n",
    "merge\n",
    "\n",
    "\n",
    "\n",
    "\n",
    "\n",
    "\n",
    "\n",
    "\n"
   ]
  },
  {
   "cell_type": "markdown",
   "metadata": {
    "id": "OiNcUC4Ietgh"
   },
   "source": [
    "# Adding Two Images"
   ]
  },
  {
   "cell_type": "code",
   "execution_count": null,
   "metadata": {
    "colab": {
     "base_uri": "https://localhost:8080/",
     "height": 273
    },
    "id": "I8oJSbhak7K1",
    "outputId": "dbfc7455-5e6a-40db-f2e6-72cc2b41f527"
   },
   "outputs": [],
   "source": [
    "#add images(prints the common portion of 2 images)\n",
    "add=ImageChops.add(x,o)\n",
    "add"
   ]
  },
  {
   "cell_type": "markdown",
   "metadata": {
    "id": "QWi9U7FafSAk"
   },
   "source": [
    "# Conversion To GreyScale"
   ]
  },
  {
   "cell_type": "code",
   "execution_count": null,
   "metadata": {
    "colab": {
     "base_uri": "https://localhost:8080/",
     "height": 273
    },
    "id": "GEdEC61al4xa",
    "outputId": "76c81cd8-773a-4425-b52f-0b31a8ea5c59"
   },
   "outputs": [],
   "source": [
    "#convert colour mode to graysacle('L') \n",
    "greyscale=merge.convert('L')\n",
    "greyscale"
   ]
  },
  {
   "cell_type": "markdown",
   "metadata": {
    "id": "XMGy_Fe0fZmN"
   },
   "source": [
    "# Conversion To BinaryFormat"
   ]
  },
  {
   "cell_type": "code",
   "execution_count": null,
   "metadata": {
    "colab": {
     "base_uri": "https://localhost:8080/",
     "height": 273
    },
    "id": "zNaP6r6JmgxQ",
    "outputId": "34dd5105-edfc-4b8c-ab8d-8b22d1489337"
   },
   "outputs": [],
   "source": [
    "#convert colour mode  to binary format('1')\n",
    "binary=merge.convert('1')\n",
    "binary"
   ]
  },
  {
   "cell_type": "markdown",
   "metadata": {
    "id": "9gz5N610f5yT"
   },
   "source": []
  },
  {
   "cell_type": "markdown",
   "metadata": {
    "id": "pkXd8oO8gDWK"
   },
   "source": [
    "# Inversion Of Image"
   ]
  },
  {
   "cell_type": "code",
   "execution_count": null,
   "metadata": {
    "colab": {
     "base_uri": "https://localhost:8080/",
     "height": 273
    },
    "id": "utxGW_ziuerd",
    "outputId": "19c6e443-90e7-47fd-b29d-52cb28cbac80"
   },
   "outputs": [],
   "source": [
    "#invert the image\n",
    "invert=ImageChops.invert(greyscale)\n",
    "invert\n"
   ]
  },
  {
   "cell_type": "markdown",
   "metadata": {
    "id": "nkKk32W-gTb6"
   },
   "source": [
    "# Blur An Image"
   ]
  },
  {
   "cell_type": "code",
   "execution_count": null,
   "metadata": {
    "colab": {
     "base_uri": "https://localhost:8080/",
     "height": 412
    },
    "id": "7JYgBEfsgu0C",
    "outputId": "de0fd222-d5df-43b0-ec77-117722a73872"
   },
   "outputs": [],
   "source": [
    "from PIL import Image, ImageFilter\n",
    "\n",
    "#Open existing image\n",
    "OriImage = Image.open(image_boy)\n",
    "OriImage"
   ]
  },
  {
   "cell_type": "markdown",
   "metadata": {
    "id": "uQ7NsWPbg7HC"
   },
   "source": [
    "# Simple Blur"
   ]
  },
  {
   "cell_type": "code",
   "execution_count": null,
   "metadata": {
    "colab": {
     "base_uri": "https://localhost:8080/",
     "height": 412
    },
    "id": "5VuLzYZgg-gI",
    "outputId": "64b721ae-5634-4c15-ccdf-1a0249857973"
   },
   "outputs": [],
   "source": [
    "blurImage = OriImage.filter(ImageFilter.BLUR)\n",
    "blurImage"
   ]
  },
  {
   "cell_type": "markdown",
   "metadata": {
    "id": "qNgzyyXfg-84"
   },
   "source": [
    "# Box Blur"
   ]
  },
  {
   "cell_type": "code",
   "execution_count": null,
   "metadata": {
    "colab": {
     "base_uri": "https://localhost:8080/",
     "height": 412
    },
    "id": "pqpzXtB1hSdY",
    "outputId": "903a519d-4c43-46ac-b0c8-e596b1e79aae"
   },
   "outputs": [],
   "source": [
    "#Applying BoxBlur filter\n",
    "boxImage = OriImage.filter(ImageFilter.BoxBlur(5))\n",
    "boxImage"
   ]
  },
  {
   "cell_type": "markdown",
   "metadata": {
    "id": "U2u2sDPwhTl4"
   },
   "source": [
    "# Gaussian Blur"
   ]
  },
  {
   "cell_type": "code",
   "execution_count": null,
   "metadata": {
    "colab": {
     "base_uri": "https://localhost:8080/",
     "height": 412
    },
    "id": "Nxk2xldWhbON",
    "outputId": "31b0f629-91b6-491f-c37e-c508553b7e3d"
   },
   "outputs": [],
   "source": [
    "#Applying GaussianBlur filter\n",
    "gaussImage = OriImage.filter(ImageFilter.GaussianBlur(5))\n",
    "gaussImage"
   ]
  },
  {
   "cell_type": "markdown",
   "metadata": {
    "id": "51eqCGmciSaj"
   },
   "source": [
    "# Cropping An Image"
   ]
  },
  {
   "cell_type": "code",
   "execution_count": null,
   "metadata": {
    "colab": {
     "base_uri": "https://localhost:8080/",
     "height": 315
    },
    "id": "vvbWCkbzibx4",
    "outputId": "65cc427a-5d85-4ac1-ed28-48612f273cfa"
   },
   "outputs": [],
   "source": [
    "from PIL import Image\n",
    "\n",
    "#Create an Image Object from an Image\n",
    "im = Image.open(image_birds)\n",
    "\n",
    "#Display actual image\n",
    "\n",
    "#left, upper, right, lowe\n",
    "#Crop\n",
    "cropped = im.crop((1,2,300,300))\n",
    "\n",
    "#Display the cropped portion\n",
    "cropped"
   ]
  },
  {
   "cell_type": "markdown",
   "metadata": {
    "id": "Zef2rQ2Dk6Ma"
   },
   "source": [
    "# Flipping And Rotating An Image"
   ]
  },
  {
   "cell_type": "code",
   "execution_count": null,
   "metadata": {
    "colab": {
     "base_uri": "https://localhost:8080/",
     "height": 462
    },
    "id": "geEGItuNlNtn",
    "outputId": "4e39408c-d6ad-4ac6-9b8d-66ee6afc5ca6"
   },
   "outputs": [],
   "source": [
    "from PIL import Image\n",
    "\n",
    "# Open an already existing image\n",
    "imageObject = Image.open(image_spiderman)\n",
    "imageObject\n",
    "\n"
   ]
  },
  {
   "cell_type": "markdown",
   "metadata": {
    "id": "V2xund4bm7HW"
   },
   "source": [
    "# Flipping The Image Horizontally"
   ]
  },
  {
   "cell_type": "code",
   "execution_count": null,
   "metadata": {
    "colab": {
     "base_uri": "https://localhost:8080/",
     "height": 462
    },
    "id": "gYMAddmlm77f",
    "outputId": "d4cadf7e-3d4a-4673-a9d0-c6d5e45acf7b"
   },
   "outputs": [],
   "source": [
    "# Do a flip of left and right\n",
    "hori_flippedImage = imageObject.transpose(Image.FLIP_LEFT_RIGHT)\n",
    "hori_flippedImage"
   ]
  },
  {
   "cell_type": "markdown",
   "metadata": {
    "id": "KCvjjg2um-VN"
   },
   "source": [
    "# Flipping The Image Vertically"
   ]
  },
  {
   "cell_type": "code",
   "execution_count": null,
   "metadata": {
    "colab": {
     "base_uri": "https://localhost:8080/",
     "height": 462
    },
    "id": "SVJdi7sHm_NL",
    "outputId": "bd5abf1e-aed4-4e33-b387-5e3e33c64f6e"
   },
   "outputs": [],
   "source": [
    "# Show vertically flipped image\n",
    "Vert_flippedImage = imageObject.transpose(Image.FLIP_TOP_BOTTOM)\n",
    "Vert_flippedImage"
   ]
  },
  {
   "cell_type": "markdown",
   "metadata": {
    "id": "p7tzk3EwqvYN"
   },
   "source": [
    "# Rotating The Image By Specifying Degree"
   ]
  },
  {
   "cell_type": "code",
   "execution_count": null,
   "metadata": {
    "colab": {
     "base_uri": "https://localhost:8080/",
     "height": 681
    },
    "id": "Nl3rGuxJq5kD",
    "outputId": "ca2a04bc-7a58-4757-9ad1-997ec6e45abe"
   },
   "outputs": [],
   "source": [
    "#show 90 degree flipped image\n",
    "degree_flippedImage = imageObject.transpose(Image.ROTATE_90)\n",
    "degree_flippedImage"
   ]
  },
  {
   "cell_type": "code",
   "execution_count": null,
   "metadata": {
    "colab": {
     "base_uri": "https://localhost:8080/",
     "height": 875
    },
    "id": "_KvJj-YSrI6P",
    "outputId": "b9512431-4d48-4522-a3b0-4502b729dd3a"
   },
   "outputs": [],
   "source": [
    "#Import required Image library\n",
    "from PIL import Image\n",
    "\n",
    "#Create an Image Object from an Image\n",
    "im = Image.open(image_panda)\n",
    "im\n",
    "\n"
   ]
  },
  {
   "cell_type": "markdown",
   "metadata": {
    "id": "BhwjGtAJpjFB"
   },
   "source": [
    "# ReSizing An Image"
   ]
  },
  {
   "cell_type": "code",
   "execution_count": null,
   "metadata": {
    "colab": {
     "base_uri": "https://localhost:8080/",
     "height": 459
    },
    "id": "aOvdt0mxpnRT",
    "outputId": "e12f63e5-7f6b-4625-9a03-3a0b3207ccf1"
   },
   "outputs": [],
   "source": [
    "#Make the new image half the width and half the height of the original image\n",
    "resized_im = im.resize((round(im.size[0]*0.5), round(im.size[1]*0.5)))\n",
    "\n",
    "#Display the resized imaged\n",
    "resized_im"
   ]
  },
  {
   "cell_type": "markdown",
   "metadata": {
    "id": "rFcVeNxurvgC"
   },
   "source": [
    "# Creating a Watermark"
   ]
  },
  {
   "cell_type": "code",
   "execution_count": null,
   "metadata": {
    "colab": {
     "base_uri": "https://localhost:8080/",
     "height": 412
    },
    "id": "7P2e0rNHr2gg",
    "outputId": "643bf8ea-2711-4f47-a1da-33b9f9762225"
   },
   "outputs": [],
   "source": [
    "#Import required Image library\n",
    "from PIL import Image, ImageDraw, ImageFont\n",
    "\n",
    "#Create an Image Object from an Image\n",
    "im = Image.open(image_boy)\n",
    "width, height = im.size\n",
    "\n",
    "draw = ImageDraw.Draw(im)\n",
    "text = \"sample watermark\"\n",
    "\n",
    "font = ImageFont.load_default()\n",
    "textwidth, textheight = draw.textsize(text, font)\n",
    "\n",
    "# calculate the x,y coordinates of the text\n",
    "margin = 10\n",
    "x = width - textwidth - margin\n",
    "y = height - textheight - margin\n",
    "\n",
    "# draw watermark in the bottom right corner\n",
    "draw.text((x, y), text, font=font)\n",
    "im"
   ]
  },
  {
   "cell_type": "markdown",
   "metadata": {
    "id": "4liTQ-KUs1qx"
   },
   "source": [
    "## Adding Filters to an Image"
   ]
  },
  {
   "cell_type": "code",
   "execution_count": null,
   "metadata": {
    "colab": {
     "base_uri": "https://localhost:8080/",
     "height": 785
    },
    "id": "QFXEnIHGu3KU",
    "outputId": "483dc5b0-625c-447b-dcd9-7831a41c57b6"
   },
   "outputs": [],
   "source": [
    "from PIL import Image, ImageFilter\n",
    "\n",
    "img= Image.open(image_penguins)\n",
    "\n",
    "img"
   ]
  },
  {
   "cell_type": "markdown",
   "metadata": {
    "id": "ZHg4C4vcu39r"
   },
   "source": [
    "# BLUR"
   ]
  },
  {
   "cell_type": "code",
   "execution_count": null,
   "metadata": {
    "colab": {
     "base_uri": "https://localhost:8080/",
     "height": 785
    },
    "id": "XECT0u-vtBml",
    "outputId": "64a8a140-ef0b-4f5f-8249-06ad2dcf40eb"
   },
   "outputs": [],
   "source": [
    "from PIL.ImageFilter import (\n",
    "   BLUR, CONTOUR, DETAIL, EDGE_ENHANCE, EDGE_ENHANCE_MORE,\n",
    "   EMBOSS, FIND_EDGES, SMOOTH, SMOOTH_MORE, SHARPEN)\n",
    "#Applying the blur filter\n",
    "img1 = img.filter(BLUR)\n",
    "img1"
   ]
  },
  {
   "cell_type": "markdown",
   "metadata": {
    "id": "1z7uzIBz1V7K"
   },
   "source": [
    "# CONTOUR"
   ]
  },
  {
   "cell_type": "code",
   "execution_count": null,
   "metadata": {
    "colab": {
     "base_uri": "https://localhost:8080/",
     "height": 785
    },
    "id": "mI5dW1_i1W0f",
    "outputId": "f92e869b-1a97-47ec-b70a-44234757bf1a"
   },
   "outputs": [],
   "source": [
    "from PIL.ImageFilter import (\n",
    "   BLUR, CONTOUR, DETAIL, EDGE_ENHANCE, EDGE_ENHANCE_MORE,\n",
    "   EMBOSS, FIND_EDGES, SMOOTH, SMOOTH_MORE, SHARPEN)\n",
    "#Applying the CONTOUR filter\n",
    "img1 = img.filter(CONTOUR)\n",
    "img1"
   ]
  },
  {
   "cell_type": "markdown",
   "metadata": {
    "id": "clJCCGbx182u"
   },
   "source": [
    "# DETAIL"
   ]
  },
  {
   "cell_type": "code",
   "execution_count": null,
   "metadata": {
    "colab": {
     "base_uri": "https://localhost:8080/",
     "height": 785
    },
    "id": "zbu84dEx19VC",
    "outputId": "42b55104-c253-4c7f-e94a-0713bc6463ea"
   },
   "outputs": [],
   "source": [
    "from PIL.ImageFilter import (\n",
    "   BLUR, CONTOUR, DETAIL, EDGE_ENHANCE, EDGE_ENHANCE_MORE,\n",
    "   EMBOSS, FIND_EDGES, SMOOTH, SMOOTH_MORE, SHARPEN)\n",
    "#Applying the blur filter\n",
    "img1 = img.filter(DETAIL)\n",
    "img1"
   ]
  },
  {
   "cell_type": "markdown",
   "metadata": {
    "id": "VGkS9KiJ3teQ"
   },
   "source": [
    "# EDGE_ENHANCE"
   ]
  },
  {
   "cell_type": "code",
   "execution_count": null,
   "metadata": {
    "colab": {
     "base_uri": "https://localhost:8080/",
     "height": 785
    },
    "id": "D1iOgsCt3uUv",
    "outputId": "e9c12dc5-3137-4427-f238-66726b3acc96"
   },
   "outputs": [],
   "source": [
    "from PIL.ImageFilter import (\n",
    "   BLUR, CONTOUR, DETAIL, EDGE_ENHANCE, EDGE_ENHANCE_MORE,\n",
    "   EMBOSS, FIND_EDGES, SMOOTH, SMOOTH_MORE, SHARPEN)\n",
    "#Applying the EDGE_ENHANCE filter\n",
    "img1 = img.filter(EDGE_ENHANCE)\n",
    "img1"
   ]
  },
  {
   "cell_type": "markdown",
   "metadata": {
    "id": "gX3ZzkIl380d"
   },
   "source": [
    "# EDGE_ENHANCE_MORE"
   ]
  },
  {
   "cell_type": "code",
   "execution_count": null,
   "metadata": {
    "colab": {
     "base_uri": "https://localhost:8080/",
     "height": 785
    },
    "id": "mI_KDUDq39XS",
    "outputId": "75d2e141-09ee-407c-ccad-0e4b7d6b0333"
   },
   "outputs": [],
   "source": [
    "from PIL.ImageFilter import (\n",
    "   BLUR, CONTOUR, DETAIL, EDGE_ENHANCE, EDGE_ENHANCE_MORE,\n",
    "   EMBOSS, FIND_EDGES, SMOOTH, SMOOTH_MORE, SHARPEN)\n",
    "#Applying the EDGE_ENHANCE_MORE filter\n",
    "img1 = img.filter(EDGE_ENHANCE_MORE)\n",
    "img1"
   ]
  },
  {
   "cell_type": "markdown",
   "metadata": {
    "id": "deZsn_J-5q3A"
   },
   "source": [
    "# EMBOSS"
   ]
  },
  {
   "cell_type": "code",
   "execution_count": null,
   "metadata": {
    "colab": {
     "base_uri": "https://localhost:8080/",
     "height": 785
    },
    "id": "JLZiaSow5rc-",
    "outputId": "ff25c72a-6672-4f6d-af53-047d624cfd0d"
   },
   "outputs": [],
   "source": [
    "from PIL.ImageFilter import (\n",
    "   BLUR, CONTOUR, DETAIL, EDGE_ENHANCE, EDGE_ENHANCE_MORE,\n",
    "   EMBOSS, FIND_EDGES, SMOOTH, SMOOTH_MORE, SHARPEN)\n",
    "#Applying the EMBOSS filter\n",
    "img1 = img.filter(EMBOSS)\n",
    "img1"
   ]
  },
  {
   "cell_type": "markdown",
   "metadata": {
    "id": "vX7r8zAV6nCt"
   },
   "source": [
    "# SHARPEN"
   ]
  },
  {
   "cell_type": "code",
   "execution_count": null,
   "metadata": {
    "colab": {
     "base_uri": "https://localhost:8080/",
     "height": 785
    },
    "id": "JpV1e5866n4D",
    "outputId": "01b6a422-2427-4e9b-f916-26bf8c837c96"
   },
   "outputs": [],
   "source": [
    "from PIL.ImageFilter import (\n",
    "   BLUR, CONTOUR, DETAIL, EDGE_ENHANCE, EDGE_ENHANCE_MORE,\n",
    "   EMBOSS, FIND_EDGES, SMOOTH, SMOOTH_MORE, SHARPEN)\n",
    "#Applying the SHARPEN filter\n",
    "img1 = img.filter(SHARPEN)\n",
    "img1"
   ]
  },
  {
   "cell_type": "markdown",
   "metadata": {
    "id": "AlX6GQ3Y6tdK"
   },
   "source": [
    "# SMOOTH"
   ]
  },
  {
   "cell_type": "code",
   "execution_count": null,
   "metadata": {
    "colab": {
     "base_uri": "https://localhost:8080/",
     "height": 785
    },
    "id": "0rjqnvUO6uKi",
    "outputId": "c3bad48b-7914-42be-8476-52e3ace8db68"
   },
   "outputs": [],
   "source": [
    "from PIL.ImageFilter import (\n",
    "   BLUR, CONTOUR, DETAIL, EDGE_ENHANCE, EDGE_ENHANCE_MORE,\n",
    "   EMBOSS, FIND_EDGES, SMOOTH, SMOOTH_MORE, SHARPEN)\n",
    "#Applying the SMOOTH filter\n",
    "img1 = img.filter(SMOOTH)\n",
    "img1"
   ]
  },
  {
   "cell_type": "markdown",
   "metadata": {
    "id": "4Q6x9G1T6zEn"
   },
   "source": [
    "# SMOOTH_MORE"
   ]
  },
  {
   "cell_type": "code",
   "execution_count": null,
   "metadata": {
    "colab": {
     "base_uri": "https://localhost:8080/",
     "height": 785
    },
    "id": "xPdtILHP63YU",
    "outputId": "d4307ea6-3b14-49a7-9d7d-2ff83cad2176"
   },
   "outputs": [],
   "source": [
    "from PIL.ImageFilter import (\n",
    "   BLUR, CONTOUR, DETAIL, EDGE_ENHANCE, EDGE_ENHANCE_MORE,\n",
    "   EMBOSS, FIND_EDGES, SMOOTH, SMOOTH_MORE, SHARPEN)\n",
    "#Applying the SMOOTH_MORE filter\n",
    "img1 = img.filter(SMOOTH_MORE)\n",
    "img1"
   ]
  },
  {
   "cell_type": "markdown",
   "metadata": {
    "id": "f1OQ_pKF8h_0"
   },
   "source": [
    "# Drawing A Line Across Image"
   ]
  },
  {
   "cell_type": "code",
   "execution_count": null,
   "metadata": {
    "colab": {
     "base_uri": "https://localhost:8080/",
     "height": 617
    },
    "id": "wVIphDBo9FZr",
    "outputId": "9b17eab3-c49f-42cc-def7-0430f6477bd1"
   },
   "outputs": [],
   "source": [
    "#Import required libraries\n",
    "import sys\n",
    "from PIL import Image, ImageDraw\n",
    "\n",
    "#Create Image object\n",
    "im = Image.open(image_flowers)\n",
    "\n",
    "#Draw line\n",
    "draw = ImageDraw.Draw(im)\n",
    "draw.line((0, 0) + im.size, fill=128)\n",
    "draw.line((0, im.size[1], im.size[0], 0), fill=128)\n",
    "\n",
    "#Show image\n",
    "im"
   ]
  },
  {
   "cell_type": "markdown",
   "metadata": {
    "id": "G8pdrHwT9kWZ"
   },
   "source": [
    "# Drawing Shapes-using 'ImageDraw' module"
   ]
  },
  {
   "cell_type": "markdown",
   "metadata": {
    "id": "FNHZQtL5NHDW"
   },
   "source": [
    "# Ellipse"
   ]
  },
  {
   "cell_type": "code",
   "execution_count": null,
   "metadata": {
    "colab": {
     "base_uri": "https://localhost:8080/",
     "height": 317
    },
    "id": "O4Sm2xri9whZ",
    "outputId": "ec24bd5d-ee02-4436-b220-0629854fa5c8"
   },
   "outputs": [],
   "source": [
    "from PIL import Image, ImageDraw\n",
    "\n",
    "img = Image.new('RGB', (500, 300), (125, 125, 125))\n",
    "draw = ImageDraw.Draw(img)\n",
    "\n",
    "draw.ellipse((200, 125, 300, 200), fill=(255, 0, 0), outline=(0, 0, 0))\n",
    "img"
   ]
  },
  {
   "cell_type": "markdown",
   "metadata": {
    "id": "bbhrJVoONMaG"
   },
   "source": [
    "# Rectangle"
   ]
  },
  {
   "cell_type": "code",
   "execution_count": null,
   "metadata": {
    "colab": {
     "base_uri": "https://localhost:8080/",
     "height": 317
    },
    "id": "fo3JphedNQBn",
    "outputId": "d9b7c3ef-f1f1-4afb-b68b-a977d8038dbd"
   },
   "outputs": [],
   "source": [
    "from PIL import Image, ImageDraw\n",
    "\n",
    "img = Image.new('RGB', (500, 300), (125, 125, 125))\n",
    "draw = ImageDraw.Draw(img)\n",
    "\n",
    "draw.rectangle(\n",
    "   (200, 125, 300, 200),\n",
    "   fill=(255, 0, 0),\n",
    "   outline=(0, 0, 0))\n",
    "img"
   ]
  },
  {
   "cell_type": "markdown",
   "metadata": {
    "id": "vYo1ApfYN4Zf"
   },
   "source": [
    "# Writing Text on Image"
   ]
  },
  {
   "cell_type": "code",
   "execution_count": null,
   "metadata": {
    "colab": {
     "base_uri": "https://localhost:8080/",
     "height": 617
    },
    "id": "ICEUl2J8N4_Z",
    "outputId": "6bf2ea0e-295f-4e38-a84d-cdc29bea027a"
   },
   "outputs": [],
   "source": [
    "img = Image.open(image_flowers)\n",
    "d1 = ImageDraw.Draw(img)\n",
    "d1.text((70, 70), \"Medical Image Processing!\", fill=(255, 0 , 255))\n",
    "img"
   ]
  },
  {
   "cell_type": "markdown",
   "metadata": {
    "id": "dJNOzSM3OkpG"
   },
   "source": [
    "# Edge Detection"
   ]
  },
  {
   "cell_type": "code",
   "execution_count": null,
   "metadata": {
    "colab": {
     "base_uri": "https://localhost:8080/",
     "height": 273
    },
    "id": "uxbaahaJ1crF",
    "outputId": "cc23d44f-6334-4ddd-b8ca-4445acffd835"
   },
   "outputs": [],
   "source": [
    "#edge detection\n",
    "edge=greyscale.filter(ImageFilter.FIND_EDGES)\n",
    "edge"
   ]
  },
  {
   "cell_type": "code",
   "execution_count": null,
   "metadata": {},
   "outputs": [],
   "source": []
  }
 ],
 "metadata": {
  "colab": {
   "collapsed_sections": [],
   "name": "Image Processing-Pillow.ipynb",
   "provenance": []
  },
  "kernelspec": {
   "display_name": "Python 3",
   "language": "python",
   "name": "python3"
  },
  "language_info": {
   "codemirror_mode": {
    "name": "ipython",
    "version": 3
   },
   "file_extension": ".py",
   "mimetype": "text/x-python",
   "name": "python",
   "nbconvert_exporter": "python",
   "pygments_lexer": "ipython3",
   "version": "3.8.3"
  }
 },
 "nbformat": 4,
 "nbformat_minor": 1
}
